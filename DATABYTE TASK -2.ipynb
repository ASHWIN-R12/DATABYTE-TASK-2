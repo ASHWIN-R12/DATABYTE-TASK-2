{
 "cells": [
  {
   "cell_type": "code",
   "execution_count": 16,
   "id": "9d8d1b0f-ba76-4e93-99f3-21d556530bd5",
   "metadata": {},
   "outputs": [],
   "source": [
    "import csv\n",
    "import numpy as np\n",
    "import pandas as pd\n",
    "import nltk \n",
    "from nltk.stem import wordnet\n",
    "from nltk.stem import WordNetLemmatizer \n",
    "import re\n",
    "import math\n",
    "\n"
   ]
  },
  {
   "cell_type": "code",
   "execution_count": 4,
   "id": "eb427717-2b8f-47fd-8d0d-f52ddfd2f7dd",
   "metadata": {},
   "outputs": [],
   "source": [
    "def get_similarity_score(pair):\n",
    "    return pair[1]\n",
    "    \n",
    "FileName_movies=\"movies.csv\"\n",
    "\n",
    "\n",
    "df_movies = pd.read_csv(FileName_movies,usecols=['title','genres'],dtype={ 'title': 'str','genres':'str'})\n",
    "\n",
    "    \n"
   ]
  },
  {
   "cell_type": "code",
   "execution_count": 5,
   "id": "7da127e9-b1ff-42ea-b4b8-3e8ce5777a2b",
   "metadata": {},
   "outputs": [
    {
     "data": {
      "text/html": [
       "<div>\n",
       "<style scoped>\n",
       "    .dataframe tbody tr th:only-of-type {\n",
       "        vertical-align: middle;\n",
       "    }\n",
       "\n",
       "    .dataframe tbody tr th {\n",
       "        vertical-align: top;\n",
       "    }\n",
       "\n",
       "    .dataframe thead th {\n",
       "        text-align: right;\n",
       "    }\n",
       "</style>\n",
       "<table border=\"1\" class=\"dataframe\">\n",
       "  <thead>\n",
       "    <tr style=\"text-align: right;\">\n",
       "      <th></th>\n",
       "      <th>title</th>\n",
       "      <th>genres</th>\n",
       "    </tr>\n",
       "  </thead>\n",
       "  <tbody>\n",
       "    <tr>\n",
       "      <th>0</th>\n",
       "      <td>Toy Story (1995)</td>\n",
       "      <td>Adventure|Animation|Children|Comedy|Fantasy</td>\n",
       "    </tr>\n",
       "    <tr>\n",
       "      <th>1</th>\n",
       "      <td>Jumanji (1995)</td>\n",
       "      <td>Adventure|Children|Fantasy</td>\n",
       "    </tr>\n",
       "    <tr>\n",
       "      <th>2</th>\n",
       "      <td>Grumpier Old Men (1995)</td>\n",
       "      <td>Comedy|Romance</td>\n",
       "    </tr>\n",
       "    <tr>\n",
       "      <th>3</th>\n",
       "      <td>Waiting to Exhale (1995)</td>\n",
       "      <td>Comedy|Drama|Romance</td>\n",
       "    </tr>\n",
       "    <tr>\n",
       "      <th>4</th>\n",
       "      <td>Father of the Bride Part II (1995)</td>\n",
       "      <td>Comedy</td>\n",
       "    </tr>\n",
       "  </tbody>\n",
       "</table>\n",
       "</div>"
      ],
      "text/plain": [
       "                                title  \\\n",
       "0                    Toy Story (1995)   \n",
       "1                      Jumanji (1995)   \n",
       "2             Grumpier Old Men (1995)   \n",
       "3            Waiting to Exhale (1995)   \n",
       "4  Father of the Bride Part II (1995)   \n",
       "\n",
       "                                        genres  \n",
       "0  Adventure|Animation|Children|Comedy|Fantasy  \n",
       "1                   Adventure|Children|Fantasy  \n",
       "2                               Comedy|Romance  \n",
       "3                         Comedy|Drama|Romance  \n",
       "4                                       Comedy  "
      ]
     },
     "execution_count": 5,
     "metadata": {},
     "output_type": "execute_result"
    }
   ],
   "source": [
    "df_movies.head()"
   ]
  },
  {
   "cell_type": "code",
   "execution_count": 12,
   "id": "bfab75f0-be78-4658-acdd-869ebd277610",
   "metadata": {},
   "outputs": [
    {
     "name": "stdout",
     "output_type": "stream",
     "text": [
      "[['Toy Story (1995)' 'Adventure|Animation|Children|Comedy|Fantasy']\n",
      " ['Jumanji (1995)' 'Adventure|Children|Fantasy']\n",
      " ['Grumpier Old Men (1995)' 'Comedy|Romance']\n",
      " ...\n",
      " ['Flint (2017)' 'Drama']\n",
      " ['Bungo Stray Dogs: Dead Apple (2018)' 'Action|Animation']\n",
      " ['Andrew Dice Clay: Dice Rules (1991)' 'Comedy']]\n"
     ]
    }
   ],
   "source": [
    "data=df_movies.to_numpy()\n",
    "print(data)"
   ]
  },
  {
   "cell_type": "code",
   "execution_count": null,
   "id": "cc0d929e-1c7d-4f93-ba2c-339eb093d74a",
   "metadata": {},
   "outputs": [],
   "source": [
    "punctuation = re.compile(r'[()0-9]')\n",
    "for row in range(data.shape[1]):\n",
    "    movie_name = data[row,0]\n",
    "    cleaned_movie_name = punctuation.sub('', movie_name)\n",
    "    cleaned_movie_name = cleaned_movie_name.strip()\n",
    "    data[row,0] = cleaned_movie_name"
   ]
  },
  {
   "cell_type": "code",
   "execution_count": null,
   "id": "fd730745-9ade-4c51-9754-61a31a85aec2",
   "metadata": {},
   "outputs": [],
   "source": [
    "user_input_movie=input(\"Enter movie name:\")\n",
    "\n",
    "user_movie = punctuation.sub('', user_input_movie).strip()\n",
    "\n",
    "\n",
    "user_movie_genres = None\n",
    "for row in range(data.shape[1]):\n",
    "    if data[row,0] == user_movie:\n",
    "        user_movie_genres = data[row,1].split('|')\n",
    "        break\n",
    "\n",
    "if user_movie_genres is None:\n",
    "    print(\"Movie not found.\")\n",
    "else:\n",
    "    lemmatizer = WordNetLemmatizer()\n",
    "    user_movie_lemmatized_genres = [lemmatizer.lemmatize(genre.lower()) for genre in user_movie_genres]\n",
    "\n",
    "    similar_movies = []\n",
    "    for row in range(data.shape[1]):\n",
    "        genres = data[row,1].split('|')\n",
    "        lemmatized_genres = [lemmatizer.lemmatize(genre.lower()) for genre in genres]\n",
    "        \n",
    "        dot_product = sum([1 if genre in user_movie_lemmatized_genres else 0 for genre in lemmatized_genres])\n",
    "        \n",
    "        user_magnitude = math.sqrt(len(user_movie_lemmatized_genres))\n",
    "        movie_magnitude = math.sqrt(len(lemmatized_genres))\n",
    "        \n",
    "        \n",
    "        if user_magnitude == 0 or movie_magnitude == 0:\n",
    "            cos_similarity = 0  \n",
    "        else:\n",
    "            cos_similarity = dot_product / (user_magnitude * movie_magnitude)\n",
    "        \n",
    "        similar_movies.append(data[row,0], cos_similarity))\n",
    "\n",
    "\n",
    "    k = 5  \n",
    "    recommended_movies = sorted(similar_movies, key=get_similarity_score, reverse=True)[:k]\n",
    "\n",
    "    print(\"Recommended Movies for '\", user_input_movie, \"':\", sep='')\n",
    "    for movie_name, cos_similarity in recommended_movies:\n",
    "        print(movie_name)"
   ]
  }
 ],
 "metadata": {
  "kernelspec": {
   "display_name": "Python 3 (ipykernel)",
   "language": "python",
   "name": "python3"
  },
  "language_info": {
   "codemirror_mode": {
    "name": "ipython",
    "version": 3
   },
   "file_extension": ".py",
   "mimetype": "text/x-python",
   "name": "python",
   "nbconvert_exporter": "python",
   "pygments_lexer": "ipython3",
   "version": "3.11.4"
  }
 },
 "nbformat": 4,
 "nbformat_minor": 5
}
